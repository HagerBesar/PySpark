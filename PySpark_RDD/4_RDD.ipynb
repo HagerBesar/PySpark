{
  "cells": [
    {
      "cell_type": "markdown",
      "id": "2568221b",
      "metadata": {
        "id": "2568221b"
      },
      "source": [
        "### Import the required libraries then Create SparkContext"
      ]
    },
    {
      "cell_type": "code",
      "source": [
        "import pyspark"
      ],
      "metadata": {
        "id": "LUaIcvUAadqA"
      },
      "id": "LUaIcvUAadqA",
      "execution_count": null,
      "outputs": []
    },
    {
      "cell_type": "code",
      "execution_count": null,
      "id": "ZRY0TIwMldBr",
      "metadata": {
        "id": "ZRY0TIwMldBr"
      },
      "outputs": [],
      "source": [
        "import findspark\n",
        "findspark.init()\n",
        "\n",
        "from pyspark import SparkConf, SparkContext\n",
        "sconf = SparkConf()\n",
        "\n",
        "sconf.setMaster('local[*]').setAppName('RDD')\n",
        "\n",
        "sc = SparkContext(master='local[*]',appName='RDD')\n",
        "sc= SparkContext(conf=sconf)\n",
        "\n",
        "from pyspark.sql import SparkSession\n",
        "\n",
        "spark = SparkSession.builder.appName('RDD').master('local[*]').getOrCreate()\n",
        "\n",
        "sc = sparkContext"
      ]
    },
    {
      "cell_type": "markdown",
      "id": "e9a7d9c6",
      "metadata": {
        "id": "e9a7d9c6"
      },
      "source": [
        "### Create and display an RDD from the following list"
      ]
    },
    {
      "cell_type": "code",
      "execution_count": null,
      "id": "409084ef",
      "metadata": {
        "id": "409084ef"
      },
      "outputs": [],
      "source": [
        "ls = [('JK', 22), ('V', 24), ('Jimin',24), ('RM', 25), ('J-Hope', 25), ('Suga', 26), ('Jin', 27)]"
      ]
    },
    {
      "cell_type": "code",
      "execution_count": null,
      "id": "3102a461",
      "metadata": {
        "id": "3102a461",
        "outputId": "3162d363-c316-4625-8d51-4c980f31da31"
      },
      "outputs": [
        {
          "name": "stdout",
          "output_type": "stream",
          "text": [
            "[('JK', 22), ('V', 24), ('Jimin', 24), ('RM', 25), ('J-Hope', 25), ('Suga', 26), ('Jin', 27)]\n"
          ]
        }
      ],
      "source": [
        "rdd = sc.parallelize(ls)\n",
        "\n",
        "# Contents of RDD\n",
        "print(rdd.collect())"
      ]
    },
    {
      "cell_type": "markdown",
      "id": "823af0d6",
      "metadata": {
        "id": "823af0d6"
      },
      "source": [
        "### Create a sample1.txt file to contain the text shown below."
      ]
    },
    {
      "cell_type": "code",
      "execution_count": null,
      "id": "0b7b9adf",
      "metadata": {
        "id": "0b7b9adf"
      },
      "outputs": [],
      "source": [
        "with open(\"sample1.txt\", \"w\") as f:\n",
        "    f.write('Utilitatis causa amicitia est quaesita.\\n'\n",
        "            'Lorem ipsum dolor sit amet, consectetur adipiscing elit.\\n'\n",
        "            'Collatio igitur ista tenihil iuvat.\\n'\n",
        "            'Honesta oratio, Socratica, Platonis etiam.\\n'\n",
        "            'Primum in nostranepotestate est, quid meminerimus?\\n'\n",
        "            'Duo Reges: constructio interrete.\\n'\n",
        "            'Quid, sietiam iucunda memoria est praeteritorum malorum?\\n'\n",
        "            'Si quidem, inquit, tollerem,')"
      ]
    },
    {
      "cell_type": "code",
      "execution_count": null,
      "id": "66668929",
      "metadata": {
        "colab": {
          "base_uri": "https://localhost:8080/"
        },
        "id": "66668929",
        "outputId": "12cb83ea-8333-499b-d603-adb5fef64ee0"
      },
      "outputs": [
        {
          "name": "stdout",
          "output_type": "stream",
          "text": [
            "\n",
            "Utilitatis causa amicitia est quaesita.\n",
            "Lorem ipsum dolor sit amet, consectetur adipiscing elit. \n",
            "Collatio igitur ista tenihil iuvat. \n",
            "Honesta oratio, Socratica, Platonis etiam. \n",
            "Primum in nostranepotestate est, quid meminerimus? \n",
            "Duo Reges: constructio interrete.\n",
            "Quid, sietiam iucunda memoria est praeteritorum malorum? \n",
            "Si quidem, inquit, tollerem,\n"
          ]
        }
      ],
      "source": [
        "print('''\n",
        "Utilitatis causa amicitia est quaesita.\n",
        "Lorem ipsum dolor sit amet, consectetur adipiscing elit. \n",
        "Collatio igitur ista tenihil iuvat. \n",
        "Honesta oratio, Socratica, Platonis etiam. \n",
        "Primum in nostranepotestate est, quid meminerimus? \n",
        "Duo Reges: constructio interrete.\n",
        "Quid, sietiam iucunda memoria est praeteritorum malorum? \n",
        "Si quidem, inquit, tollerem,''')"
      ]
    },
    {
      "cell_type": "markdown",
      "id": "49249054",
      "metadata": {
        "id": "49249054"
      },
      "source": [
        "### Read sample1.txt file into RDD and displaying the first 4 elements"
      ]
    },
    {
      "cell_type": "code",
      "execution_count": null,
      "id": "dc6563ee",
      "metadata": {
        "colab": {
          "base_uri": "https://localhost:8080/"
        },
        "id": "dc6563ee",
        "outputId": "0c66ac5f-7519-4f78-ccd4-e28102729d91"
      },
      "outputs": [
        {
          "data": {
            "text/plain": [
              "['Utilitatis causa amicitia est quaesita.',\n",
              " 'Lorem ipsum dolor sit amet, consectetur adipiscing elit.',\n",
              " 'Collatio igitur ista tenihil iuvat.',\n",
              " 'Honesta oratio, Socratica, Platonis etiam.']"
            ]
          },
          "execution_count": 6,
          "metadata": {},
          "output_type": "execute_result"
        }
      ],
      "source": [
        "rdd1 = sc.textFile(\"sample1.txt\")\n",
        "# Display the first 4 elements of the RDD\n",
        "rdd1.take(4)"
      ]
    },
    {
      "cell_type": "markdown",
      "id": "f0194c12",
      "metadata": {
        "id": "f0194c12"
      },
      "source": [
        "### Count the total number of rows in RDD"
      ]
    },
    {
      "cell_type": "code",
      "execution_count": null,
      "id": "7d142aa1",
      "metadata": {
        "colab": {
          "base_uri": "https://localhost:8080/"
        },
        "id": "7d142aa1",
        "outputId": "436a98fa-5ae4-416e-8eb5-4ee83be4d70f"
      },
      "outputs": [
        {
          "data": {
            "text/plain": [
              "8"
            ]
          },
          "execution_count": 7,
          "metadata": {},
          "output_type": "execute_result"
        }
      ],
      "source": [
        "# Count the total number of rows in the RDD\n",
        "rdd1_count = rdd1.count()\n",
        "rdd1_count"
      ]
    },
    {
      "cell_type": "markdown",
      "id": "e7c4dc87",
      "metadata": {
        "id": "e7c4dc87"
      },
      "source": [
        "### Create a function to convert the data into lower case and splitting it"
      ]
    },
    {
      "cell_type": "code",
      "execution_count": null,
      "id": "efe74e51",
      "metadata": {
        "id": "efe74e51"
      },
      "outputs": [],
      "source": [
        "def process_data(data_rdd):\n",
        "#     lowercase\n",
        "    data_rdd = data_rdd.map(lambda x: x.lower())\n",
        "#     split\n",
        "    data_rdd = data_rdd.flatMap(lambda x: x.split())\n",
        "    return data_rdd"
      ]
    },
    {
      "cell_type": "code",
      "execution_count": null,
      "id": "pBfgUGS-o9Yt",
      "metadata": {
        "colab": {
          "base_uri": "https://localhost:8080/"
        },
        "id": "pBfgUGS-o9Yt",
        "outputId": "0bc8c80a-a634-4888-d00b-5119a1a93af5"
      },
      "outputs": [
        {
          "name": "stdout",
          "output_type": "stream",
          "text": [
            "['utilitatis', 'causa', 'amicitia', 'est', 'quaesita.', 'lorem', 'ipsum', 'dolor', 'sit', 'amet,', 'consectetur', 'adipiscing', 'elit.', 'collatio', 'igitur', 'ista', 'tenihil', 'iuvat.', 'honesta', 'oratio,', 'socratica,', 'platonis', 'etiam.', 'primum', 'in', 'nostranepotestate', 'est,', 'quid', 'meminerimus?', 'duo', 'reges:', 'constructio', 'interrete.', 'quid,', 'sietiam', 'iucunda', 'memoria', 'est', 'praeteritorum', 'malorum?', 'si', 'quidem,', 'inquit,', 'tollerem,']\n"
          ]
        }
      ],
      "source": [
        "# Apply the process_data() function to the RDD\n",
        "processed_rdd = process_data(rdd1)\n",
        "print(processed_rdd.collect())"
      ]
    },
    {
      "cell_type": "markdown",
      "id": "7437d37f",
      "metadata": {
        "id": "7437d37f"
      },
      "source": [
        "### Remove the stopwords from the previous text. i.e. Remove it."
      ]
    },
    {
      "cell_type": "code",
      "execution_count": null,
      "id": "358d6cd7",
      "metadata": {
        "id": "358d6cd7"
      },
      "outputs": [],
      "source": [
        "stopwords = ['a','all','the','as','is','am','an','and',\n",
        "             'be','been','from','had','I','I’d','why','with']\n",
        "# Hint: you may need use flatMap"
      ]
    },
    {
      "cell_type": "code",
      "execution_count": null,
      "id": "e7e6183d",
      "metadata": {
        "colab": {
          "base_uri": "https://localhost:8080/"
        },
        "id": "e7e6183d",
        "outputId": "48af360f-69be-41d1-b691-6c9cab714782"
      },
      "outputs": [
        {
          "name": "stdout",
          "output_type": "stream",
          "text": [
            "['utilitatis', 'causa', 'amicitia', 'est', 'quaesita.', 'lorem', 'ipsum', 'dolor', 'sit', 'amet,']\n"
          ]
        }
      ],
      "source": [
        "def remove_stopwords(data_rdd):\n",
        "    # Remove the stopwords from the data\n",
        "    data_rdd = data_rdd.filter(lambda x: x not in stopwords)\n",
        "    return data_rdd\n",
        "\n",
        "my_rdd = sc.textFile(\"sample1.txt\")\n",
        "\n",
        "# Process Data\n",
        "my_processed_rdd = process_data(my_rdd)\n",
        "\n",
        "# Remove the stopwords from processed data\n",
        "my_filtered_rdd = remove_stopwords(my_processed_rdd)\n",
        "\n",
        "# Display the first 10 words in the filtered RDD\n",
        "first_10_words = my_filtered_rdd.take(10)\n",
        "print(first_10_words)"
      ]
    },
    {
      "cell_type": "markdown",
      "id": "fb9f6058",
      "metadata": {
        "id": "fb9f6058"
      },
      "source": [
        "### Find the words starting with ‘c’"
      ]
    },
    {
      "cell_type": "code",
      "execution_count": null,
      "id": "74ce5f64",
      "metadata": {
        "colab": {
          "base_uri": "https://localhost:8080/"
        },
        "id": "74ce5f64",
        "outputId": "41ac76a8-615e-45eb-a584-f65d1e989547"
      },
      "outputs": [
        {
          "name": "stdout",
          "output_type": "stream",
          "text": [
            "['causa', 'consectetur', 'collatio', 'constructio']\n"
          ]
        }
      ],
      "source": [
        "my_rdd = sc.textFile(\"sample1.txt\")\n",
        "\n",
        "my_processed_rdd = process_data(my_rdd)\n",
        "my_filtered_rdd = remove_stopwords(my_processed_rdd)\n",
        "\n",
        "# Words starting with 'c'\n",
        "my_c_words_rdd = my_filtered_rdd.filter(lambda x: x.startswith('c'))\n",
        "\n",
        "print(my_c_words_rdd.collect())"
      ]
    },
    {
      "cell_type": "markdown",
      "id": "eba39e2e",
      "metadata": {
        "id": "eba39e2e"
      },
      "source": [
        "### Reduce the data by key and sum it (use the data from the following list)"
      ]
    },
    {
      "cell_type": "code",
      "execution_count": null,
      "id": "f26dea46",
      "metadata": {
        "id": "f26dea46"
      },
      "outputs": [],
      "source": [
        "list = [('JK', 22), ('V', 24), ('Jimin',24), ('RM', 25)\n",
        "        , ('J-Hope', 25), ('Suga', 26), ('Jin', 27)\n",
        "       , ('J-Hope', 12), ('Suga', 25), ('Jin', 34)\n",
        "       , ('JK', 32), ('V', 44), ('Jimin',14), ('RM', 35)]\n",
        "# Hint: use reduceByKey"
      ]
    },
    {
      "cell_type": "code",
      "execution_count": null,
      "id": "4d064bde",
      "metadata": {
        "colab": {
          "base_uri": "https://localhost:8080/"
        },
        "id": "4d064bde",
        "outputId": "bfd226e2-db2b-4fc5-edac-6cf351b22705"
      },
      "outputs": [
        {
          "name": "stdout",
          "output_type": "stream",
          "text": [
            "[('JK', 54), ('J-Hope', 37), ('Suga', 51), ('V', 68), ('RM', 60), ('Jin', 61), ('Jimin', 38)]\n"
          ]
        }
      ],
      "source": [
        "my_rdd = sc.parallelize(list)\n",
        "\n",
        "my_sum_rdd = my_rdd.reduceByKey(lambda x, y: x + y)\n",
        "\n",
        "print(my_sum_rdd.collect())"
      ]
    },
    {
      "cell_type": "markdown",
      "id": "a4587230",
      "metadata": {
        "id": "a4587230"
      },
      "source": [
        "### Creat some key value pairs RDDs"
      ]
    },
    {
      "cell_type": "code",
      "execution_count": null,
      "id": "cfb446ee",
      "metadata": {
        "id": "cfb446ee"
      },
      "outputs": [],
      "source": [
        "rdd1 = sc.parallelize([('a',2),('b',3)])\n",
        "rdd2 = sc.parallelize([('a',9),('b',7),('c',10)])"
      ]
    },
    {
      "cell_type": "code",
      "execution_count": null,
      "id": "fb041829",
      "metadata": {
        "colab": {
          "base_uri": "https://localhost:8080/"
        },
        "id": "fb041829",
        "outputId": "f0abd81d-701f-4be4-ba02-0521c493bdae"
      },
      "outputs": [
        {
          "name": "stdout",
          "output_type": "stream",
          "text": [
            "[('a', 2), ('b', 3)]\n"
          ]
        }
      ],
      "source": [
        "print(rdd1.collect())"
      ]
    },
    {
      "cell_type": "code",
      "execution_count": null,
      "id": "wRmXfo1lmm3N",
      "metadata": {
        "colab": {
          "base_uri": "https://localhost:8080/"
        },
        "id": "wRmXfo1lmm3N",
        "outputId": "88ed05a6-7d17-4aa7-de08-300a3eb5410b"
      },
      "outputs": [
        {
          "name": "stdout",
          "output_type": "stream",
          "text": [
            "[('a', 9), ('b', 7), ('c', 10)]\n"
          ]
        }
      ],
      "source": [
        "print(rdd2.collect())"
      ]
    },
    {
      "cell_type": "markdown",
      "id": "98ec3168",
      "metadata": {
        "id": "98ec3168"
      },
      "source": [
        "### Perform Join operation on the RDDs (rdd1,rdd2)"
      ]
    },
    {
      "cell_type": "code",
      "execution_count": null,
      "id": "5fc98e9f",
      "metadata": {
        "id": "5fc98e9f"
      },
      "outputs": [],
      "source": [
        "# Perform a join operation on the RDDs\n",
        "rdd_join = rdd1.join(rdd2)\n",
        "\n",
        "print(rdd_join.collect())"
      ]
    },
    {
      "cell_type": "code",
      "execution_count": null,
      "id": "8cc8af2b",
      "metadata": {
        "id": "8cc8af2b"
      },
      "outputs": [],
      "source": []
    }
  ],
  "metadata": {
    "colab": {
      "provenance": []
    },
    "kernelspec": {
      "display_name": "Python 3 (ipykernel)",
      "language": "python",
      "name": "python3"
    },
    "language_info": {
      "codemirror_mode": {
        "name": "ipython",
        "version": 3
      },
      "file_extension": ".py",
      "mimetype": "text/x-python",
      "name": "python",
      "nbconvert_exporter": "python",
      "pygments_lexer": "ipython3",
      "version": "3.10.9"
    }
  },
  "nbformat": 4,
  "nbformat_minor": 5
}